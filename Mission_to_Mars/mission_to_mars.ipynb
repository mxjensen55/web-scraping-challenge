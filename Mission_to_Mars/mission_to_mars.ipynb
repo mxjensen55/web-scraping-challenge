{
 "cells": [
  {
   "cell_type": "code",
   "execution_count": 1,
   "metadata": {},
   "outputs": [],
   "source": [
    "#dependencies\n",
    "import pandas as pd\n",
    "from bs4 import BeautifulSoup as bs\n",
    "import requests\n",
    "import time\n",
    "from splinter import Browser"
   ]
  },
  {
   "cell_type": "code",
   "execution_count": 2,
   "metadata": {},
   "outputs": [],
   "source": [
    "#NASA Mars News\n",
    "##grab header and text\n",
    "news_url = 'https://mars.nasa.gov/news/'\n",
    "response = requests.get(news_url)"
   ]
  },
  {
   "cell_type": "code",
   "execution_count": 3,
   "metadata": {},
   "outputs": [],
   "source": [
    "headline_soup = bs(response.text, 'lxml')"
   ]
  },
  {
   "cell_type": "code",
   "execution_count": 4,
   "metadata": {},
   "outputs": [
    {
     "name": "stdout",
     "output_type": "stream",
     "text": [
      "Mars Helicopter Attached to NASA's Perseverance Rover\n"
     ]
    }
   ],
   "source": [
    "headline = headline_soup.find('div', class_ = 'content_title').text.strip()\n",
    "print(headline)"
   ]
  },
  {
   "cell_type": "code",
   "execution_count": 5,
   "metadata": {},
   "outputs": [
    {
     "name": "stdout",
     "output_type": "stream",
     "text": [
      "The team also fueled the rover's sky crane to get ready for this summer's history-making launch.\n"
     ]
    }
   ],
   "source": [
    "paragraph = headline_soup.find('div', class_ = 'rollover_description_inner').text.strip()\n",
    "print(paragraph)"
   ]
  },
  {
   "cell_type": "code",
   "execution_count": 6,
   "metadata": {},
   "outputs": [],
   "source": [
    "#JPL Mars Space Images - Featured Image\n",
    "executable_path = {\"executable_path\": \"chromedriver\"}\n",
    "browser = Browser(\"chrome\", **executable_path, headless=False)"
   ]
  },
  {
   "cell_type": "code",
   "execution_count": 7,
   "metadata": {},
   "outputs": [],
   "source": [
    "image_url = \"https://www.jpl.nasa.gov/spaceimages/?search=&category=Mars\"\n",
    "browser.visit(image_url)\n",
    "# response=requests.get(url)\n",
    "# soup=bs(response.text, 'lxml')\n",
    "# print(soup.prettify())"
   ]
  },
  {
   "cell_type": "code",
   "execution_count": 8,
   "metadata": {},
   "outputs": [],
   "source": [
    "browser.click_link_by_id('full_image')\n",
    "time.sleep(2)\n",
    "browser.links.find_by_partial_text('more info').click()"
   ]
  },
  {
   "cell_type": "code",
   "execution_count": 9,
   "metadata": {},
   "outputs": [],
   "source": [
    "html = browser.html\n",
    "image_soup = bs(html, \"lxml\")\n",
    "img_url = image_soup.find('figure', class_ = 'lede')\n",
    "img_url=img_url.a.img['src']"
   ]
  },
  {
   "cell_type": "code",
   "execution_count": 10,
   "metadata": {},
   "outputs": [
    {
     "name": "stdout",
     "output_type": "stream",
     "text": [
      "https://www.jpl.nasa.gov/spaceimages/images/largesize/PIA23354_hires.jpg\n"
     ]
    }
   ],
   "source": [
    "featured_img_url = \"https://www.jpl.nasa.gov\" + img_url\n",
    "print(featured_img_url)"
   ]
  },
  {
   "cell_type": "code",
   "execution_count": 11,
   "metadata": {},
   "outputs": [],
   "source": [
    "#Mars Weather tweets\n",
    "# executable_path = {\"executable_path\": \"chromedriver\"}\n",
    "# browser = Browser(\"chrome\", **executable_path, headless=False)"
   ]
  },
  {
   "cell_type": "code",
   "execution_count": 12,
   "metadata": {},
   "outputs": [],
   "source": [
    "tweet_url=\"https://twitter.com/marswxreport?lang=en\"\n",
    "response=requests.get(tweet_url)\n",
    "tweet_soup=bs(response.text, 'lxml')\n",
    "# print(tweet_soup.prettify())"
   ]
  },
  {
   "cell_type": "code",
   "execution_count": 13,
   "metadata": {},
   "outputs": [],
   "source": [
    "mars_weather_tweet = tweet_soup.find_all('div', class_ = \"js-tweet-text-container\")"
   ]
  },
  {
   "cell_type": "code",
   "execution_count": 14,
   "metadata": {},
   "outputs": [
    {
     "name": "stdout",
     "output_type": "stream",
     "text": [
      "[<div class=\"js-tweet-text-container\">\n",
      "<p class=\"TweetTextSize TweetTextSize--normal js-tweet-text tweet-text\" data-aria-label-part=\"0\" lang=\"en\">InSight sol 503 (2020-04-26) low -93.8ºC (-136.8ºF) high -4.9ºC (23.2ºF)\n",
      "winds from the WNW at 4.6 m/s (10.2 mph) gusting to 17.5 m/s (39.1 mph)\n",
      "pressure at 6.70 hPa<a class=\"twitter-timeline-link u-hidden\" data-pre-embedded=\"true\" dir=\"ltr\" href=\"https://t.co/tWmeti4FBg\">pic.twitter.com/tWmeti4FBg</a></p>\n",
      "</div>, <div class=\"js-tweet-text-container\">\n",
      "<p class=\"TweetTextSize TweetTextSize--normal js-tweet-text tweet-text\" data-aria-label-part=\"0\" lang=\"en\">InSight sol 502 (2020-04-25) low -94.0ºC (-137.3ºF) high -4.9ºC (23.2ºF)\n",
      "winds from the SW at 4.5 m/s (10.1 mph) gusting to 14.8 m/s (33.1 mph)\n",
      "pressure at 6.70 hPa</p>\n",
      "</div>, <div class=\"js-tweet-text-container\">\n",
      "<p class=\"TweetTextSize TweetTextSize--normal js-tweet-text tweet-text\" data-aria-label-part=\"0\" lang=\"en\">InSight sol 501 (2020-04-24) low -93.5ºC (-136.2ºF) high -4.3ºC (24.3ºF)\n",
      "winds from the SW at 5.0 m/s (11.3 mph) gusting to 15.8 m/s (35.3 mph)\n",
      "pressure at 6.70 hPa<a class=\"twitter-timeline-link u-hidden\" data-pre-embedded=\"true\" dir=\"ltr\" href=\"https://t.co/Xdbw8T0T0E\">pic.twitter.com/Xdbw8T0T0E</a></p>\n",
      "</div>, <div class=\"js-tweet-text-container\">\n",
      "<p class=\"TweetTextSize TweetTextSize--normal js-tweet-text tweet-text\" data-aria-label-part=\"0\" lang=\"en\">InSight sol 500 (2020-04-22) low -93.8ºC (-136.8ºF) high -3.5ºC (25.6ºF)\n",
      "winds from the WNW at 4.5 m/s (10.1 mph) gusting to 20.4 m/s (45.6 mph)\n",
      "pressure at 6.70 hPa<a class=\"twitter-timeline-link u-hidden\" data-pre-embedded=\"true\" dir=\"ltr\" href=\"https://t.co/YfyTbjP485\">pic.twitter.com/YfyTbjP485</a></p>\n",
      "</div>, <div class=\"js-tweet-text-container\">\n",
      "<p class=\"TweetTextSize TweetTextSize--normal js-tweet-text tweet-text\" data-aria-label-part=\"0\" lang=\"en\">InSight sol 499 (2020-04-22) low -94.4ºC (-137.9ºF) high -3.6ºC (25.5ºF)\n",
      "winds from the SW at 5.1 m/s (11.3 mph) gusting to 16.2 m/s (36.1 mph)\n",
      "pressure at 6.70 hPa<a class=\"twitter-timeline-link u-hidden\" data-pre-embedded=\"true\" dir=\"ltr\" href=\"https://t.co/B29HO3oTeD\">pic.twitter.com/B29HO3oTeD</a></p>\n",
      "</div>, <div class=\"js-tweet-text-container\">\n",
      "<p class=\"TweetTextSize TweetTextSize--normal js-tweet-text tweet-text\" data-aria-label-part=\"0\" lang=\"en\">InSight sol 498 (2020-04-21) low -94.3ºC (-137.7ºF) high -5.7ºC (21.8ºF)\n",
      "winds from the SW at 5.0 m/s (11.3 mph) gusting to 16.6 m/s (37.2 mph)\n",
      "pressure at 6.60 hPa<a class=\"twitter-timeline-link u-hidden\" data-pre-embedded=\"true\" dir=\"ltr\" href=\"https://t.co/ZyqDCASvU3\">pic.twitter.com/ZyqDCASvU3</a></p>\n",
      "</div>, <div class=\"js-tweet-text-container\">\n",
      "<p class=\"TweetTextSize TweetTextSize--normal js-tweet-text tweet-text\" data-aria-label-part=\"0\" lang=\"en\">This is a fly-over of Warrego Valles (center, looking a bit like a tree with branches) made with Magellan mission data with <a class=\"twitter-atreply pretty-link js-nav\" data-mentioned-user-id=\"3025087864\" dir=\"ltr\" href=\"/OpenSpaceProj\"><s>@</s><b>OpenSpaceProj</b></a>. It is an ancient Martian river valley  and a main indicator that Mars was likely much more similar to Earth in the past! <a class=\"twitter-atreply pretty-link js-nav\" data-mentioned-user-id=\"61593294\" dir=\"ltr\" href=\"/naturalsciences\"><s>@</s><b>naturalsciences</b></a> <img alt=\"🌏\" aria-label=\"Emoji: Earth globe asia-australia\" class=\"Emoji Emoji--forText\" draggable=\"false\" src=\"https://abs.twimg.com/emoji/v2/72x72/1f30f.png\" title=\"Earth globe asia-australia\"/><a class=\"twitter-timeline-link u-hidden\" data-pre-embedded=\"true\" dir=\"ltr\" href=\"https://t.co/6XfkHyaFLX\">pic.twitter.com/6XfkHyaFLX</a></p>\n",
      "</div>, <div class=\"js-tweet-text-container\">\n",
      "<p class=\"TweetTextSize TweetTextSize--normal js-tweet-text tweet-text\" data-aria-label-part=\"0\" lang=\"en\">InSight sol 497 (2020-04-20) low -94.3ºC (-137.8ºF) high -4.1ºC (24.7ºF)\n",
      "winds from the SW at 5.1 m/s (11.4 mph) gusting to 17.1 m/s (38.3 mph)\n",
      "pressure at 6.60 hPa<a class=\"twitter-timeline-link u-hidden\" data-pre-embedded=\"true\" dir=\"ltr\" href=\"https://t.co/bh8mC02L9g\">pic.twitter.com/bh8mC02L9g</a></p>\n",
      "</div>, <div class=\"js-tweet-text-container\">\n",
      "<p class=\"TweetTextSize TweetTextSize--normal js-tweet-text tweet-text\" data-aria-label-part=\"0\" lang=\"en\">InSight sol 496 (2020-04-18) low -94.6ºC (-138.4ºF) high -6.2ºC (20.9ºF)\n",
      "winds from the SW at 4.6 m/s (10.3 mph) gusting to 15.7 m/s (35.2 mph)\n",
      "pressure at 6.60 hPa<a class=\"twitter-timeline-link u-hidden\" data-pre-embedded=\"true\" dir=\"ltr\" href=\"https://t.co/mrkGEj5txc\">pic.twitter.com/mrkGEj5txc</a></p>\n",
      "</div>, <div class=\"js-tweet-text-container\">\n",
      "<p class=\"TweetTextSize TweetTextSize--normal js-tweet-text tweet-text\" data-aria-label-part=\"0\" lang=\"en\">InSight sol 495 (2020-04-17) low -94.0ºC (-137.2ºF) high -4.2ºC (24.4ºF)\n",
      "winds from the WNW at 4.6 m/s (10.4 mph) gusting to 16.7 m/s (37.3 mph)\n",
      "pressure at 6.60 hPa<a class=\"twitter-timeline-link u-hidden\" data-pre-embedded=\"true\" dir=\"ltr\" href=\"https://t.co/SkjAdWsePB\">pic.twitter.com/SkjAdWsePB</a></p>\n",
      "</div>, <div class=\"js-tweet-text-container\">\n",
      "<p class=\"TweetTextSize TweetTextSize--normal js-tweet-text tweet-text\" data-aria-label-part=\"0\" lang=\"en\">InSight sol 494 (2020-04-17) low -95.4ºC (-139.8ºF) high -3.7ºC (25.3ºF)\n",
      "winds from the SW at 4.8 m/s (10.8 mph) gusting to 16.5 m/s (36.8 mph)\n",
      "pressure at 6.60 hPa<a class=\"twitter-timeline-link u-hidden\" data-pre-embedded=\"true\" dir=\"ltr\" href=\"https://t.co/sTMLcwSYlE\">pic.twitter.com/sTMLcwSYlE</a></p>\n",
      "</div>, <div class=\"js-tweet-text-container\">\n",
      "<p class=\"TweetTextSize TweetTextSize--normal js-tweet-text tweet-text\" data-aria-label-part=\"0\" lang=\"en\">InSight sol 493 (2020-04-15) low -94.8ºC (-138.7ºF) high -5.3ºC (22.4ºF)\n",
      "winds from the WNW at 4.8 m/s (10.7 mph) gusting to 17.1 m/s (38.2 mph)\n",
      "pressure at 6.60 hPa</p>\n",
      "</div>, <div class=\"js-tweet-text-container\">\n",
      "<p class=\"TweetTextSize TweetTextSize--normal js-tweet-text tweet-text\" data-aria-label-part=\"0\" lang=\"en\">InSight sol 492 (2020-04-15) low -94.4ºC (-137.9ºF) high -5.5ºC (22.2ºF)\n",
      "winds from the SW at 5.1 m/s (11.5 mph) gusting to 14.9 m/s (33.3 mph)\n",
      "pressure at 6.60 hPa<a class=\"twitter-timeline-link u-hidden\" data-pre-embedded=\"true\" dir=\"ltr\" href=\"https://t.co/hmAJ5JKrX2\">pic.twitter.com/hmAJ5JKrX2</a></p>\n",
      "</div>, <div class=\"js-tweet-text-container\">\n",
      "<p class=\"TweetTextSize TweetTextSize--normal js-tweet-text tweet-text\" data-aria-label-part=\"0\" lang=\"en\">“It's classic, textbook NASA, We're presented with a problem and we figure out how to make things work. Mars isn't standing still for us; we're still exploring.\" MER Science Operations Team Chief.<a class=\"twitter-timeline-link u-hidden\" data-expanded-url=\"https://mars.nasa.gov/news/8647/nasas-curiosity-keeps-rolling-as-team-operates-rover-from-home/\" dir=\"ltr\" href=\"https://t.co/gf61CK84yz\" rel=\"nofollow noopener\" target=\"_blank\" title=\"https://mars.nasa.gov/news/8647/nasas-curiosity-keeps-rolling-as-team-operates-rover-from-home/\"><span class=\"tco-ellipsis\"></span><span class=\"invisible\">https://</span><span class=\"js-display-url\">mars.nasa.gov/news/8647/nasa</span><span class=\"invisible\">s-curiosity-keeps-rolling-as-team-operates-rover-from-home/</span><span class=\"tco-ellipsis\"><span class=\"invisible\"> </span>…</span></a></p>\n",
      "</div>, <div class=\"js-tweet-text-container\">\n",
      "<p class=\"TweetTextSize TweetTextSize--normal js-tweet-text tweet-text\" data-aria-label-part=\"0\" lang=\"en\">InSight sol 491 (2020-04-14) low -93.2ºC (-135.7ºF) high -3.6ºC (25.5ºF)\n",
      "winds from the SW at 5.3 m/s (11.9 mph) gusting to 16.9 m/s (37.8 mph)\n",
      "pressure at 6.60 hPa<a class=\"twitter-timeline-link u-hidden\" data-pre-embedded=\"true\" dir=\"ltr\" href=\"https://t.co/txRSSV9avm\">pic.twitter.com/txRSSV9avm</a></p>\n",
      "</div>, <div class=\"js-tweet-text-container\">\n",
      "<p class=\"TweetTextSize TweetTextSize--normal js-tweet-text tweet-text\" data-aria-label-part=\"0\" lang=\"en\">InSight sol 490 (2020-04-12) low -94.3ºC (-137.7ºF) high -4.9ºC (23.2ºF)\n",
      "winds from the WNW at 4.8 m/s (10.6 mph) gusting to 15.3 m/s (34.3 mph)\n",
      "pressure at 6.60 hPa</p>\n",
      "</div>, <div class=\"js-tweet-text-container\">\n",
      "<p class=\"TweetTextSize TweetTextSize--normal js-tweet-text tweet-text\" data-aria-label-part=\"0\" lang=\"en\">InSight sol 489 (2020-04-11) low -93.5ºC (-136.2ºF) high -6.5ºC (20.3ºF)\n",
      "winds from the WNW at 4.8 m/s (10.7 mph) gusting to 17.4 m/s (39.0 mph)\n",
      "pressure at 6.60 hPa<a class=\"twitter-timeline-link u-hidden\" data-pre-embedded=\"true\" dir=\"ltr\" href=\"https://t.co/DlcFke5nLl\">pic.twitter.com/DlcFke5nLl</a></p>\n",
      "</div>, <div class=\"js-tweet-text-container\">\n",
      "<p class=\"TweetTextSize TweetTextSize--normal js-tweet-text tweet-text\" data-aria-label-part=\"0\" lang=\"en\">InSight sol 488 (2020-04-10) low -93.8ºC (-136.8ºF) high -19.7ºC (-3.4ºF)\n",
      "winds from the WNW at 4.6 m/s (10.4 mph) gusting to 13.0 m/s (29.1 mph)\n",
      "pressure at 6.60 hPa<a class=\"twitter-timeline-link u-hidden\" data-pre-embedded=\"true\" dir=\"ltr\" href=\"https://t.co/JPWkx4qUTc\">pic.twitter.com/JPWkx4qUTc</a></p>\n",
      "</div>, <div class=\"js-tweet-text-container\">\n",
      "<p class=\"TweetTextSize TweetTextSize--normal js-tweet-text tweet-text\" data-aria-label-part=\"0\" lang=\"en\">InSight sol 487 (2020-04-09) low -93.5ºC (-136.3ºF) high -6.6ºC (20.0ºF)\n",
      "winds from the WNW at 4.9 m/s (10.9 mph) gusting to 15.7 m/s (35.1 mph)\n",
      "pressure at 6.60 hPa</p>\n",
      "</div>, <div class=\"js-tweet-text-container\">\n",
      "<p class=\"TweetTextSize TweetTextSize--normal js-tweet-text tweet-text\" data-aria-label-part=\"0\" lang=\"en\">InSight sol 486 (2020-04-08) low -94.7ºC (-138.5ºF) high -5.3ºC (22.4ºF)\n",
      "winds from the SW at 5.0 m/s (11.1 mph) gusting to 17.0 m/s (38.0 mph)\n",
      "pressure at 6.60 hPa</p>\n",
      "</div>]\n"
     ]
    }
   ],
   "source": [
    "print(mars_weather_tweet)"
   ]
  },
  {
   "cell_type": "code",
   "execution_count": 15,
   "metadata": {},
   "outputs": [],
   "source": [
    "for tweet in mars_weather_tweet:\n",
    "    if tweet.text.strip().startswith('InSight sol'):\n",
    "        mars_weather = tweet.text.strip()"
   ]
  },
  {
   "cell_type": "code",
   "execution_count": 16,
   "metadata": {},
   "outputs": [
    {
     "name": "stdout",
     "output_type": "stream",
     "text": [
      "InSight sol 486 (2020-04-08) low -94.7ºC (-138.5ºF) high -5.3ºC (22.4ºF)\n",
      "winds from the SW at 5.0 m/s (11.1 mph) gusting to 17.0 m/s (38.0 mph)\n",
      "pressure at 6.60 hPa\n"
     ]
    }
   ],
   "source": [
    "print(mars_weather)"
   ]
  },
  {
   "cell_type": "code",
   "execution_count": 17,
   "metadata": {},
   "outputs": [],
   "source": [
    "#Mars Facts\n",
    "facts_url = 'https://space-facts.com/mars/'\n",
    "browser.visit(facts_url)"
   ]
  },
  {
   "cell_type": "code",
   "execution_count": 18,
   "metadata": {},
   "outputs": [
    {
     "data": {
      "text/html": [
       "<div>\n",
       "<style scoped>\n",
       "    .dataframe tbody tr th:only-of-type {\n",
       "        vertical-align: middle;\n",
       "    }\n",
       "\n",
       "    .dataframe tbody tr th {\n",
       "        vertical-align: top;\n",
       "    }\n",
       "\n",
       "    .dataframe thead th {\n",
       "        text-align: right;\n",
       "    }\n",
       "</style>\n",
       "<table border=\"1\" class=\"dataframe\">\n",
       "  <thead>\n",
       "    <tr style=\"text-align: right;\">\n",
       "      <th></th>\n",
       "      <th>Value</th>\n",
       "    </tr>\n",
       "    <tr>\n",
       "      <th>Description</th>\n",
       "      <th></th>\n",
       "    </tr>\n",
       "  </thead>\n",
       "  <tbody>\n",
       "    <tr>\n",
       "      <th>Equatorial Diameter:</th>\n",
       "      <td>6,792 km</td>\n",
       "    </tr>\n",
       "    <tr>\n",
       "      <th>Polar Diameter:</th>\n",
       "      <td>6,752 km</td>\n",
       "    </tr>\n",
       "    <tr>\n",
       "      <th>Mass:</th>\n",
       "      <td>6.39 × 10^23 kg (0.11 Earths)</td>\n",
       "    </tr>\n",
       "    <tr>\n",
       "      <th>Moons:</th>\n",
       "      <td>2 (Phobos &amp; Deimos)</td>\n",
       "    </tr>\n",
       "    <tr>\n",
       "      <th>Orbit Distance:</th>\n",
       "      <td>227,943,824 km (1.38 AU)</td>\n",
       "    </tr>\n",
       "  </tbody>\n",
       "</table>\n",
       "</div>"
      ],
      "text/plain": [
       "                                              Value\n",
       "Description                                        \n",
       "Equatorial Diameter:                       6,792 km\n",
       "Polar Diameter:                            6,752 km\n",
       "Mass:                 6.39 × 10^23 kg (0.11 Earths)\n",
       "Moons:                          2 (Phobos & Deimos)\n",
       "Orbit Distance:            227,943,824 km (1.38 AU)"
      ]
     },
     "execution_count": 18,
     "metadata": {},
     "output_type": "execute_result"
    }
   ],
   "source": [
    "mars_df = pd.read_html(facts_url)\n",
    "mars_df = (mars_df[0])\n",
    "mars_df.columns= ['Description', 'Value']\n",
    "mars_df=mars_df.set_index('Description')\n",
    "mars_df.head()"
   ]
  },
  {
   "cell_type": "code",
   "execution_count": 19,
   "metadata": {},
   "outputs": [
    {
     "data": {
      "text/plain": [
       "'<table border=\"1\" class=\"dataframe mars\">   <thead>     <tr style=\"text-align: right;\">       <th></th>       <th>Value</th>     </tr>     <tr>       <th>Description</th>       <th></th>     </tr>   </thead>   <tbody>     <tr>       <th>Equatorial Diameter:</th>       <td>6,792 km</td>     </tr>     <tr>       <th>Polar Diameter:</th>       <td>6,752 km</td>     </tr>     <tr>       <th>Mass:</th>       <td>6.39 × 10^23 kg (0.11 Earths)</td>     </tr>     <tr>       <th>Moons:</th>       <td>2 (Phobos &amp; Deimos)</td>     </tr>     <tr>       <th>Orbit Distance:</th>       <td>227,943,824 km (1.38 AU)</td>     </tr>     <tr>       <th>Orbit Period:</th>       <td>687 days (1.9 years)</td>     </tr>     <tr>       <th>Surface Temperature:</th>       <td>-87 to -5 °C</td>     </tr>     <tr>       <th>First Record:</th>       <td>2nd millennium BC</td>     </tr>     <tr>       <th>Recorded By:</th>       <td>Egyptian astronomers</td>     </tr>   </tbody> </table>'"
      ]
     },
     "execution_count": 19,
     "metadata": {},
     "output_type": "execute_result"
    }
   ],
   "source": [
    "mars_df = mars_df.to_html(classes='mars')\n",
    "table_data = mars_df.replace('\\n', ' ')\n",
    "table_data"
   ]
  },
  {
   "cell_type": "code",
   "execution_count": 20,
   "metadata": {},
   "outputs": [],
   "source": [
    "#Mars Hemispheres\n",
    "hemi_url=\"https://astrogeology.usgs.gov/search/results?q=hemisphere+enhanced&k1=target&v1=Mars\"\n",
    "browser.visit(hemi_url)\n",
    "html = browser.html\n",
    "# hemisphere_soup=bs(html, 'lxml')\n",
    "mars_hemis=[]"
   ]
  },
  {
   "cell_type": "code",
   "execution_count": null,
   "metadata": {},
   "outputs": [],
   "source": [
    "for i in range (4):\n",
    "    time.sleep(5)\n",
    "    images = browser.find_by_tag('h3')\n",
    "    images[i].click()\n",
    "    html = browser.html\n",
    "    soup = bs(html, 'lxml')\n",
    "    tag = soup.find(\"img\", class_=\"wide-image\")[\"src\"]\n",
    "    img_title = soup.find(\"h2\",class_=\"title\").text\n",
    "    img_url = 'https://astrogeology.usgs.gov'+ tag\n",
    "    dictionary={\"title\":img_title,\"img_url\":img_url}\n",
    "    mars_hemis.append(dictionary)\n",
    "    browser.back()\n"
   ]
  },
  {
   "cell_type": "code",
   "execution_count": null,
   "metadata": {},
   "outputs": [],
   "source": [
    "print(mars_hemis)"
   ]
  },
  {
   "cell_type": "code",
   "execution_count": null,
   "metadata": {},
   "outputs": [],
   "source": []
  }
 ],
 "metadata": {
  "kernelspec": {
   "display_name": "Python 3",
   "language": "python",
   "name": "python3"
  },
  "language_info": {
   "codemirror_mode": {
    "name": "ipython",
    "version": 3
   },
   "file_extension": ".py",
   "mimetype": "text/x-python",
   "name": "python",
   "nbconvert_exporter": "python",
   "pygments_lexer": "ipython3",
   "version": "3.7.6"
  }
 },
 "nbformat": 4,
 "nbformat_minor": 4
}
